{
 "cells": [
  {
   "cell_type": "code",
   "execution_count": 2,
   "metadata": {},
   "outputs": [
    {
     "name": "stderr",
     "output_type": "stream",
     "text": [
      "mkdir: 2024: File exists\n"
     ]
    }
   ],
   "source": [
    "import datetime\n",
    "import calendar as cal\n",
    "from note_content_in_year_folder import *"
   ]
  },
  {
   "cell_type": "code",
   "execution_count": 9,
   "metadata": {},
   "outputs": [
    {
     "name": "stdout",
     "output_type": "stream",
     "text": [
      "2024 48 7\n",
      "2024 49 1\n",
      "2024 49 2\n",
      "2024 49 3\n",
      "2024 49 4\n",
      "2024 49 5\n",
      "2024 49 6\n",
      "2024 49 7\n",
      "2024 50 1\n",
      "2024 50 2\n",
      "2024 50 3\n",
      "2024 50 4\n",
      "2024 50 5\n",
      "2024 50 6\n",
      "2024 50 7\n",
      "2024 51 1\n",
      "2024 51 2\n",
      "2024 51 3\n",
      "2024 51 4\n",
      "2024 51 5\n",
      "2024 51 6\n",
      "2024 51 7\n",
      "2024 52 1\n",
      "2024 52 2\n",
      "2024 52 3\n",
      "2024 52 4\n",
      "2024 52 5\n",
      "2024 52 6\n",
      "2024 52 7\n",
      "2025 1 1\n",
      "2025 1 2\n",
      "[1, 48, 49, 50, 51, 52]\n"
     ]
    }
   ],
   "source": [
    "weeksInt = set()\n",
    "for i in range(31):\n",
    "    date = datetime.datetime(2024, 12, (i+1))\n",
    "    isoCalendar = date.isocalendar()\n",
    "    print(isoCalendar[0], isoCalendar[1], isoCalendar[2])\n",
    "    weeksInt.add(isoCalendar[1])\n",
    "    \n",
    "weeksInt = sorted(list(weeksInt))\n",
    "print(weeksInt)"
   ]
  },
  {
   "cell_type": "code",
   "execution_count": 4,
   "metadata": {},
   "outputs": [],
   "source": [
    "calendar = cal.Calendar()\n",
    "a = calendar.itermonthdays4(2023, 1)\n",
    "# a = calendar.iterweekdays()\n",
    "\n",
    "l = []\n",
    "b = a.__next__()\n",
    "while 1:\n",
    "    try:\n",
    "        b = a.__next__()\n",
    "    except:\n",
    "        break\n",
    "    \n",
    "for l_ele in l:\n",
    "    print(l_ele)\n",
    "\n",
    "# calendar.monthdatescalendar(2023,1)\n",
    "# calendar.monthdays2calendar(2023,1)\n",
    "# calendar.monthdayscalendar(2023,1)"
   ]
  },
  {
   "cell_type": "code",
   "execution_count": 5,
   "metadata": {},
   "outputs": [
    {
     "name": "stdout",
     "output_type": "stream",
     "text": [
      "[[[[datetime.date(2022, 12, 26), datetime.date(2022, 12, 27), datetime.date(2022, 12, 28), datetime.date(2022, 12, 29), datetime.date(2022, 12, 30), datetime.date(2022, 12, 31), datetime.date(2023, 1, 1)], [datetime.date(2023, 1, 2), datetime.date(2023, 1, 3), datetime.date(2023, 1, 4), datetime.date(2023, 1, 5), datetime.date(2023, 1, 6), datetime.date(2023, 1, 7), datetime.date(2023, 1, 8)], [datetime.date(2023, 1, 9), datetime.date(2023, 1, 10), datetime.date(2023, 1, 11), datetime.date(2023, 1, 12), datetime.date(2023, 1, 13), datetime.date(2023, 1, 14), datetime.date(2023, 1, 15)], [datetime.date(2023, 1, 16), datetime.date(2023, 1, 17), datetime.date(2023, 1, 18), datetime.date(2023, 1, 19), datetime.date(2023, 1, 20), datetime.date(2023, 1, 21), datetime.date(2023, 1, 22)], [datetime.date(2023, 1, 23), datetime.date(2023, 1, 24), datetime.date(2023, 1, 25), datetime.date(2023, 1, 26), datetime.date(2023, 1, 27), datetime.date(2023, 1, 28), datetime.date(2023, 1, 29)], [datetime.date(2023, 1, 30), datetime.date(2023, 1, 31), datetime.date(2023, 2, 1), datetime.date(2023, 2, 2), datetime.date(2023, 2, 3), datetime.date(2023, 2, 4), datetime.date(2023, 2, 5)]], [[datetime.date(2023, 1, 30), datetime.date(2023, 1, 31), datetime.date(2023, 2, 1), datetime.date(2023, 2, 2), datetime.date(2023, 2, 3), datetime.date(2023, 2, 4), datetime.date(2023, 2, 5)], [datetime.date(2023, 2, 6), datetime.date(2023, 2, 7), datetime.date(2023, 2, 8), datetime.date(2023, 2, 9), datetime.date(2023, 2, 10), datetime.date(2023, 2, 11), datetime.date(2023, 2, 12)], [datetime.date(2023, 2, 13), datetime.date(2023, 2, 14), datetime.date(2023, 2, 15), datetime.date(2023, 2, 16), datetime.date(2023, 2, 17), datetime.date(2023, 2, 18), datetime.date(2023, 2, 19)], [datetime.date(2023, 2, 20), datetime.date(2023, 2, 21), datetime.date(2023, 2, 22), datetime.date(2023, 2, 23), datetime.date(2023, 2, 24), datetime.date(2023, 2, 25), datetime.date(2023, 2, 26)], [datetime.date(2023, 2, 27), datetime.date(2023, 2, 28), datetime.date(2023, 3, 1), datetime.date(2023, 3, 2), datetime.date(2023, 3, 3), datetime.date(2023, 3, 4), datetime.date(2023, 3, 5)]], [[datetime.date(2023, 2, 27), datetime.date(2023, 2, 28), datetime.date(2023, 3, 1), datetime.date(2023, 3, 2), datetime.date(2023, 3, 3), datetime.date(2023, 3, 4), datetime.date(2023, 3, 5)], [datetime.date(2023, 3, 6), datetime.date(2023, 3, 7), datetime.date(2023, 3, 8), datetime.date(2023, 3, 9), datetime.date(2023, 3, 10), datetime.date(2023, 3, 11), datetime.date(2023, 3, 12)], [datetime.date(2023, 3, 13), datetime.date(2023, 3, 14), datetime.date(2023, 3, 15), datetime.date(2023, 3, 16), datetime.date(2023, 3, 17), datetime.date(2023, 3, 18), datetime.date(2023, 3, 19)], [datetime.date(2023, 3, 20), datetime.date(2023, 3, 21), datetime.date(2023, 3, 22), datetime.date(2023, 3, 23), datetime.date(2023, 3, 24), datetime.date(2023, 3, 25), datetime.date(2023, 3, 26)], [datetime.date(2023, 3, 27), datetime.date(2023, 3, 28), datetime.date(2023, 3, 29), datetime.date(2023, 3, 30), datetime.date(2023, 3, 31), datetime.date(2023, 4, 1), datetime.date(2023, 4, 2)]]], [[[datetime.date(2023, 3, 27), datetime.date(2023, 3, 28), datetime.date(2023, 3, 29), datetime.date(2023, 3, 30), datetime.date(2023, 3, 31), datetime.date(2023, 4, 1), datetime.date(2023, 4, 2)], [datetime.date(2023, 4, 3), datetime.date(2023, 4, 4), datetime.date(2023, 4, 5), datetime.date(2023, 4, 6), datetime.date(2023, 4, 7), datetime.date(2023, 4, 8), datetime.date(2023, 4, 9)], [datetime.date(2023, 4, 10), datetime.date(2023, 4, 11), datetime.date(2023, 4, 12), datetime.date(2023, 4, 13), datetime.date(2023, 4, 14), datetime.date(2023, 4, 15), datetime.date(2023, 4, 16)], [datetime.date(2023, 4, 17), datetime.date(2023, 4, 18), datetime.date(2023, 4, 19), datetime.date(2023, 4, 20), datetime.date(2023, 4, 21), datetime.date(2023, 4, 22), datetime.date(2023, 4, 23)], [datetime.date(2023, 4, 24), datetime.date(2023, 4, 25), datetime.date(2023, 4, 26), datetime.date(2023, 4, 27), datetime.date(2023, 4, 28), datetime.date(2023, 4, 29), datetime.date(2023, 4, 30)]], [[datetime.date(2023, 5, 1), datetime.date(2023, 5, 2), datetime.date(2023, 5, 3), datetime.date(2023, 5, 4), datetime.date(2023, 5, 5), datetime.date(2023, 5, 6), datetime.date(2023, 5, 7)], [datetime.date(2023, 5, 8), datetime.date(2023, 5, 9), datetime.date(2023, 5, 10), datetime.date(2023, 5, 11), datetime.date(2023, 5, 12), datetime.date(2023, 5, 13), datetime.date(2023, 5, 14)], [datetime.date(2023, 5, 15), datetime.date(2023, 5, 16), datetime.date(2023, 5, 17), datetime.date(2023, 5, 18), datetime.date(2023, 5, 19), datetime.date(2023, 5, 20), datetime.date(2023, 5, 21)], [datetime.date(2023, 5, 22), datetime.date(2023, 5, 23), datetime.date(2023, 5, 24), datetime.date(2023, 5, 25), datetime.date(2023, 5, 26), datetime.date(2023, 5, 27), datetime.date(2023, 5, 28)], [datetime.date(2023, 5, 29), datetime.date(2023, 5, 30), datetime.date(2023, 5, 31), datetime.date(2023, 6, 1), datetime.date(2023, 6, 2), datetime.date(2023, 6, 3), datetime.date(2023, 6, 4)]], [[datetime.date(2023, 5, 29), datetime.date(2023, 5, 30), datetime.date(2023, 5, 31), datetime.date(2023, 6, 1), datetime.date(2023, 6, 2), datetime.date(2023, 6, 3), datetime.date(2023, 6, 4)], [datetime.date(2023, 6, 5), datetime.date(2023, 6, 6), datetime.date(2023, 6, 7), datetime.date(2023, 6, 8), datetime.date(2023, 6, 9), datetime.date(2023, 6, 10), datetime.date(2023, 6, 11)], [datetime.date(2023, 6, 12), datetime.date(2023, 6, 13), datetime.date(2023, 6, 14), datetime.date(2023, 6, 15), datetime.date(2023, 6, 16), datetime.date(2023, 6, 17), datetime.date(2023, 6, 18)], [datetime.date(2023, 6, 19), datetime.date(2023, 6, 20), datetime.date(2023, 6, 21), datetime.date(2023, 6, 22), datetime.date(2023, 6, 23), datetime.date(2023, 6, 24), datetime.date(2023, 6, 25)], [datetime.date(2023, 6, 26), datetime.date(2023, 6, 27), datetime.date(2023, 6, 28), datetime.date(2023, 6, 29), datetime.date(2023, 6, 30), datetime.date(2023, 7, 1), datetime.date(2023, 7, 2)]]], [[[datetime.date(2023, 6, 26), datetime.date(2023, 6, 27), datetime.date(2023, 6, 28), datetime.date(2023, 6, 29), datetime.date(2023, 6, 30), datetime.date(2023, 7, 1), datetime.date(2023, 7, 2)], [datetime.date(2023, 7, 3), datetime.date(2023, 7, 4), datetime.date(2023, 7, 5), datetime.date(2023, 7, 6), datetime.date(2023, 7, 7), datetime.date(2023, 7, 8), datetime.date(2023, 7, 9)], [datetime.date(2023, 7, 10), datetime.date(2023, 7, 11), datetime.date(2023, 7, 12), datetime.date(2023, 7, 13), datetime.date(2023, 7, 14), datetime.date(2023, 7, 15), datetime.date(2023, 7, 16)], [datetime.date(2023, 7, 17), datetime.date(2023, 7, 18), datetime.date(2023, 7, 19), datetime.date(2023, 7, 20), datetime.date(2023, 7, 21), datetime.date(2023, 7, 22), datetime.date(2023, 7, 23)], [datetime.date(2023, 7, 24), datetime.date(2023, 7, 25), datetime.date(2023, 7, 26), datetime.date(2023, 7, 27), datetime.date(2023, 7, 28), datetime.date(2023, 7, 29), datetime.date(2023, 7, 30)], [datetime.date(2023, 7, 31), datetime.date(2023, 8, 1), datetime.date(2023, 8, 2), datetime.date(2023, 8, 3), datetime.date(2023, 8, 4), datetime.date(2023, 8, 5), datetime.date(2023, 8, 6)]], [[datetime.date(2023, 7, 31), datetime.date(2023, 8, 1), datetime.date(2023, 8, 2), datetime.date(2023, 8, 3), datetime.date(2023, 8, 4), datetime.date(2023, 8, 5), datetime.date(2023, 8, 6)], [datetime.date(2023, 8, 7), datetime.date(2023, 8, 8), datetime.date(2023, 8, 9), datetime.date(2023, 8, 10), datetime.date(2023, 8, 11), datetime.date(2023, 8, 12), datetime.date(2023, 8, 13)], [datetime.date(2023, 8, 14), datetime.date(2023, 8, 15), datetime.date(2023, 8, 16), datetime.date(2023, 8, 17), datetime.date(2023, 8, 18), datetime.date(2023, 8, 19), datetime.date(2023, 8, 20)], [datetime.date(2023, 8, 21), datetime.date(2023, 8, 22), datetime.date(2023, 8, 23), datetime.date(2023, 8, 24), datetime.date(2023, 8, 25), datetime.date(2023, 8, 26), datetime.date(2023, 8, 27)], [datetime.date(2023, 8, 28), datetime.date(2023, 8, 29), datetime.date(2023, 8, 30), datetime.date(2023, 8, 31), datetime.date(2023, 9, 1), datetime.date(2023, 9, 2), datetime.date(2023, 9, 3)]], [[datetime.date(2023, 8, 28), datetime.date(2023, 8, 29), datetime.date(2023, 8, 30), datetime.date(2023, 8, 31), datetime.date(2023, 9, 1), datetime.date(2023, 9, 2), datetime.date(2023, 9, 3)], [datetime.date(2023, 9, 4), datetime.date(2023, 9, 5), datetime.date(2023, 9, 6), datetime.date(2023, 9, 7), datetime.date(2023, 9, 8), datetime.date(2023, 9, 9), datetime.date(2023, 9, 10)], [datetime.date(2023, 9, 11), datetime.date(2023, 9, 12), datetime.date(2023, 9, 13), datetime.date(2023, 9, 14), datetime.date(2023, 9, 15), datetime.date(2023, 9, 16), datetime.date(2023, 9, 17)], [datetime.date(2023, 9, 18), datetime.date(2023, 9, 19), datetime.date(2023, 9, 20), datetime.date(2023, 9, 21), datetime.date(2023, 9, 22), datetime.date(2023, 9, 23), datetime.date(2023, 9, 24)], [datetime.date(2023, 9, 25), datetime.date(2023, 9, 26), datetime.date(2023, 9, 27), datetime.date(2023, 9, 28), datetime.date(2023, 9, 29), datetime.date(2023, 9, 30), datetime.date(2023, 10, 1)]]], [[[datetime.date(2023, 9, 25), datetime.date(2023, 9, 26), datetime.date(2023, 9, 27), datetime.date(2023, 9, 28), datetime.date(2023, 9, 29), datetime.date(2023, 9, 30), datetime.date(2023, 10, 1)], [datetime.date(2023, 10, 2), datetime.date(2023, 10, 3), datetime.date(2023, 10, 4), datetime.date(2023, 10, 5), datetime.date(2023, 10, 6), datetime.date(2023, 10, 7), datetime.date(2023, 10, 8)], [datetime.date(2023, 10, 9), datetime.date(2023, 10, 10), datetime.date(2023, 10, 11), datetime.date(2023, 10, 12), datetime.date(2023, 10, 13), datetime.date(2023, 10, 14), datetime.date(2023, 10, 15)], [datetime.date(2023, 10, 16), datetime.date(2023, 10, 17), datetime.date(2023, 10, 18), datetime.date(2023, 10, 19), datetime.date(2023, 10, 20), datetime.date(2023, 10, 21), datetime.date(2023, 10, 22)], [datetime.date(2023, 10, 23), datetime.date(2023, 10, 24), datetime.date(2023, 10, 25), datetime.date(2023, 10, 26), datetime.date(2023, 10, 27), datetime.date(2023, 10, 28), datetime.date(2023, 10, 29)], [datetime.date(2023, 10, 30), datetime.date(2023, 10, 31), datetime.date(2023, 11, 1), datetime.date(2023, 11, 2), datetime.date(2023, 11, 3), datetime.date(2023, 11, 4), datetime.date(2023, 11, 5)]], [[datetime.date(2023, 10, 30), datetime.date(2023, 10, 31), datetime.date(2023, 11, 1), datetime.date(2023, 11, 2), datetime.date(2023, 11, 3), datetime.date(2023, 11, 4), datetime.date(2023, 11, 5)], [datetime.date(2023, 11, 6), datetime.date(2023, 11, 7), datetime.date(2023, 11, 8), datetime.date(2023, 11, 9), datetime.date(2023, 11, 10), datetime.date(2023, 11, 11), datetime.date(2023, 11, 12)], [datetime.date(2023, 11, 13), datetime.date(2023, 11, 14), datetime.date(2023, 11, 15), datetime.date(2023, 11, 16), datetime.date(2023, 11, 17), datetime.date(2023, 11, 18), datetime.date(2023, 11, 19)], [datetime.date(2023, 11, 20), datetime.date(2023, 11, 21), datetime.date(2023, 11, 22), datetime.date(2023, 11, 23), datetime.date(2023, 11, 24), datetime.date(2023, 11, 25), datetime.date(2023, 11, 26)], [datetime.date(2023, 11, 27), datetime.date(2023, 11, 28), datetime.date(2023, 11, 29), datetime.date(2023, 11, 30), datetime.date(2023, 12, 1), datetime.date(2023, 12, 2), datetime.date(2023, 12, 3)]], [[datetime.date(2023, 11, 27), datetime.date(2023, 11, 28), datetime.date(2023, 11, 29), datetime.date(2023, 11, 30), datetime.date(2023, 12, 1), datetime.date(2023, 12, 2), datetime.date(2023, 12, 3)], [datetime.date(2023, 12, 4), datetime.date(2023, 12, 5), datetime.date(2023, 12, 6), datetime.date(2023, 12, 7), datetime.date(2023, 12, 8), datetime.date(2023, 12, 9), datetime.date(2023, 12, 10)], [datetime.date(2023, 12, 11), datetime.date(2023, 12, 12), datetime.date(2023, 12, 13), datetime.date(2023, 12, 14), datetime.date(2023, 12, 15), datetime.date(2023, 12, 16), datetime.date(2023, 12, 17)], [datetime.date(2023, 12, 18), datetime.date(2023, 12, 19), datetime.date(2023, 12, 20), datetime.date(2023, 12, 21), datetime.date(2023, 12, 22), datetime.date(2023, 12, 23), datetime.date(2023, 12, 24)], [datetime.date(2023, 12, 25), datetime.date(2023, 12, 26), datetime.date(2023, 12, 27), datetime.date(2023, 12, 28), datetime.date(2023, 12, 29), datetime.date(2023, 12, 30), datetime.date(2023, 12, 31)]]]]\n"
     ]
    }
   ],
   "source": [
    "calendar = cal.Calendar()\n",
    "a = calendar.yeardatescalendar(2023)\n",
    "print(a)"
   ]
  },
  {
   "cell_type": "code",
   "execution_count": 6,
   "metadata": {},
   "outputs": [
    {
     "name": "stdout",
     "output_type": "stream",
     "text": [
      "[[datetime.date(2022, 12, 26), datetime.date(2022, 12, 27), datetime.date(2022, 12, 28), datetime.date(2022, 12, 29), datetime.date(2022, 12, 30), datetime.date(2022, 12, 31), datetime.date(2023, 1, 1)], [datetime.date(2023, 1, 2), datetime.date(2023, 1, 3), datetime.date(2023, 1, 4), datetime.date(2023, 1, 5), datetime.date(2023, 1, 6), datetime.date(2023, 1, 7), datetime.date(2023, 1, 8)], [datetime.date(2023, 1, 9), datetime.date(2023, 1, 10), datetime.date(2023, 1, 11), datetime.date(2023, 1, 12), datetime.date(2023, 1, 13), datetime.date(2023, 1, 14), datetime.date(2023, 1, 15)], [datetime.date(2023, 1, 16), datetime.date(2023, 1, 17), datetime.date(2023, 1, 18), datetime.date(2023, 1, 19), datetime.date(2023, 1, 20), datetime.date(2023, 1, 21), datetime.date(2023, 1, 22)], [datetime.date(2023, 1, 23), datetime.date(2023, 1, 24), datetime.date(2023, 1, 25), datetime.date(2023, 1, 26), datetime.date(2023, 1, 27), datetime.date(2023, 1, 28), datetime.date(2023, 1, 29)], [datetime.date(2023, 1, 30), datetime.date(2023, 1, 31), datetime.date(2023, 2, 1), datetime.date(2023, 2, 2), datetime.date(2023, 2, 3), datetime.date(2023, 2, 4), datetime.date(2023, 2, 5)]] \n",
      "\n",
      "[[(0, 0), (0, 1), (0, 2), (0, 3), (0, 4), (0, 5), (1, 6)], [(2, 0), (3, 1), (4, 2), (5, 3), (6, 4), (7, 5), (8, 6)], [(9, 0), (10, 1), (11, 2), (12, 3), (13, 4), (14, 5), (15, 6)], [(16, 0), (17, 1), (18, 2), (19, 3), (20, 4), (21, 5), (22, 6)], [(23, 0), (24, 1), (25, 2), (26, 3), (27, 4), (28, 5), (29, 6)], [(30, 0), (31, 1), (0, 2), (0, 3), (0, 4), (0, 5), (0, 6)]] \n",
      "\n",
      "[[0, 0, 0, 0, 0, 0, 1], [2, 3, 4, 5, 6, 7, 8], [9, 10, 11, 12, 13, 14, 15], [16, 17, 18, 19, 20, 21, 22], [23, 24, 25, 26, 27, 28, 29], [30, 31, 0, 0, 0, 0, 0]] \n",
      "\n"
     ]
    }
   ],
   "source": [
    "calendar = cal.Calendar()\n",
    "a1 = calendar.monthdatescalendar(2023, 1)\n",
    "a2 = calendar.monthdays2calendar(2023, 1)\n",
    "a3 = calendar.monthdayscalendar(2023, 1)\n",
    "print(a1, '\\n')\n",
    "print(a2, '\\n')\n",
    "print(a3, '\\n')"
   ]
  },
  {
   "cell_type": "code",
   "execution_count": 7,
   "metadata": {},
   "outputs": [
    {
     "name": "stdout",
     "output_type": "stream",
     "text": [
      "52 52 52 52 52 52 52 1 1 1 1 1 1 1 2 2 2 2 2 2 2 3 3 3 3 3 3 3 4 4 4 4 4 4 4 5 5 5 5 5 5 5 "
     ]
    }
   ],
   "source": [
    "for dates in calendar.monthdatescalendar(2023,1):\n",
    "    for date in dates:\n",
    "        isoCalendar = date.isocalendar()\n",
    "        print(isoCalendar[1], end=' ')"
   ]
  },
  {
   "cell_type": "code",
   "execution_count": 8,
   "metadata": {},
   "outputs": [],
   "source": [
    "with open('2024/2024.md', 'w') as f:\n",
    "    f.write(yearNoteContent(2024))"
   ]
  },
  {
   "cell_type": "code",
   "execution_count": 8,
   "metadata": {},
   "outputs": [
    {
     "name": "stdout",
     "output_type": "stream",
     "text": [
      "\n",
      "\n",
      "\n",
      "\n",
      "[2023](2%20Areas/정기적인%20기록/정기적인%20기록%20년도에%20대한%20메모%20생성%20소스%20코드/2023/2023.md) ← 2024 → [2025](2%20Areas/정기적인%20기록/정기적인%20기록%20년도에%20대한%20메모%20생성%20소스%20코드/2025/2025.md)\n",
      "\n"
     ]
    }
   ],
   "source": [
    "with open('2024/2024.md', 'r') as f:\n",
    "    s = f.readline()\n",
    "    print(s)\n",
    "    s = f.readline()\n",
    "    print(s)\n",
    "    s = f.readline()\n",
    "    print(s)"
   ]
  },
  {
   "cell_type": "code",
   "execution_count": null,
   "metadata": {},
   "outputs": [],
   "source": []
  }
 ],
 "metadata": {
  "kernelspec": {
   "display_name": "ml",
   "language": "python",
   "name": "python3"
  },
  "language_info": {
   "codemirror_mode": {
    "name": "ipython",
    "version": 3
   },
   "file_extension": ".py",
   "mimetype": "text/x-python",
   "name": "python",
   "nbconvert_exporter": "python",
   "pygments_lexer": "ipython3",
   "version": "3.10.6"
  },
  "orig_nbformat": 4,
  "vscode": {
   "interpreter": {
    "hash": "08eac26dc1f80337b7d87e94e7159a5bad95c2e85f47efef91c61359b3afbfe9"
   }
  }
 },
 "nbformat": 4,
 "nbformat_minor": 2
}
